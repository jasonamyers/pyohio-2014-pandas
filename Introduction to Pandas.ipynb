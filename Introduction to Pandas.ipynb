{
 "metadata": {
  "name": "",
  "signature": "sha256:0f8d5a12583cfeed8e8e3c99360648436176b56e9c70d43108616c5c0eae487a"
 },
 "nbformat": 3,
 "nbformat_minor": 0,
 "worksheets": [
  {
   "cells": [
    {
     "cell_type": "code",
     "collapsed": false,
     "input": [],
     "language": "python",
     "metadata": {},
     "outputs": []
    }
   ],
   "metadata": {}
  }
 ]
}